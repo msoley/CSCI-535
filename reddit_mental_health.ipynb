{
  "cells": [
    {
      "cell_type": "markdown",
      "metadata": {
        "id": "view-in-github",
        "colab_type": "text"
      },
      "source": [
        "<a href=\"https://colab.research.google.com/github/msoley/CSCI-535/blob/main/reddit_mental_health.ipynb\" target=\"_parent\"><img src=\"https://colab.research.google.com/assets/colab-badge.svg\" alt=\"Open In Colab\"/></a>"
      ]
    },
    {
      "cell_type": "markdown",
      "source": [
        "#In this excercise we analyze reddit posts around mental health issues that were collected at the start and in the middle of pandemic.\n",
        "\n",
        "some code and data from\n",
        "Low, Daniel M., et al. \"Natural language processing reveals vulnerable mental health support groups and heightened health anxiety on reddit during covid-19: Observational study.\" Journal of medical Internet research 22.10 (2020): e22635."
      ],
      "metadata": {
        "id": "TSNGVj3V56_E"
      }
    },
    {
      "cell_type": "markdown",
      "metadata": {
        "id": "N9hk7oG4pe6_"
      },
      "source": [
        "## Steps to install packages and download data/model"
      ]
    },
    {
      "cell_type": "code",
      "execution_count": 1,
      "metadata": {
        "colab": {
          "base_uri": "https://localhost:8080/",
          "height": 1000,
          "referenced_widgets": [
            "3ab6f6fc85014cffab1b54d8bf46ce6f",
            "511723a20ef641ce84a9bdd334132bf7",
            "d3630182d8f741d682b7b318cef735a9",
            "a0d6cfc113ce4eb8a2aeb88d21928637",
            "24e293a8b2844333967bad1907320f53",
            "1de9527c79e747fb9039a2c090a292b1",
            "9a72efb96a4141ef9d72a7b327e33765",
            "f663d2ec15ff4db0ab8bed753102240b",
            "1ad226f61ac24afba4f077222d725e66",
            "d5f3e4a1df494f0bb6ab07747d080cc5",
            "a611217eb1314f85b325b5df6230194d"
          ]
        },
        "id": "nh3BkLBFqcnE",
        "outputId": "582df574-17ab-48c9-b1e8-8bc3fdccd73b"
      },
      "outputs": [
        {
          "output_type": "stream",
          "name": "stderr",
          "text": [
            "/usr/local/lib/python3.10/dist-packages/huggingface_hub/utils/_token.py:88: UserWarning: \n",
            "The secret `HF_TOKEN` does not exist in your Colab secrets.\n",
            "To authenticate with the Hugging Face Hub, create a token in your settings tab (https://huggingface.co/settings/tokens), set it as secret in your Google Colab and restart your session.\n",
            "You will be able to reuse this secret in all of your notebooks.\n",
            "Please note that authentication is recommended but still optional to access public models or datasets.\n",
            "  warnings.warn(\n"
          ]
        },
        {
          "output_type": "display_data",
          "data": {
            "text/plain": [
              "reddit.zip:   0%|          | 0.00/1.03G [00:00<?, ?B/s]"
            ],
            "application/vnd.jupyter.widget-view+json": {
              "version_major": 2,
              "version_minor": 0,
              "model_id": "3ab6f6fc85014cffab1b54d8bf46ce6f"
            }
          },
          "metadata": {}
        },
        {
          "output_type": "stream",
          "name": "stdout",
          "text": [
            "Archive:  reddit.zip\n",
            "   creating: data/\n",
            "  inflating: data/guns_pre_features_tfidf_256.csv  \n",
            "  inflating: data/relationships_2018_features_tfidf_256.csv  \n",
            "  inflating: data/socialanxiety_post_features_tfidf_256.csv  \n",
            "  inflating: data/adhd_2018_features_tfidf_256.csv  \n",
            "  inflating: data/autism_2019_features_tfidf_256.csv  \n",
            "  inflating: data/teaching_post_features_tfidf_256.csv  \n",
            "  inflating: data/ptsd_2018_features_tfidf_256.csv  \n",
            "  inflating: data/suicidewatch_pre_features_tfidf_256.csv  \n",
            "  inflating: data/autism_post_features_tfidf_256.csv  \n",
            "  inflating: data/socialanxiety_2019_features_tfidf_256.csv  \n",
            "  inflating: data/lonely_2018_features_tfidf_256.csv  \n",
            "  inflating: data/teaching_2019_features_tfidf_256.csv  \n",
            "  inflating: data/mentalhealth_pre_features_tfidf_256.csv  \n",
            "  inflating: data/legaladvice_2018_features_tfidf_256.csv  \n",
            "  inflating: data/lonely_pre_features_tfidf_256.csv  \n",
            "  inflating: data/alcoholism_pre_features_tfidf_256.csv  \n",
            "  inflating: data/bipolarreddit_2019_features_tfidf_256.csv  \n",
            "  inflating: data/meditation_2018_features_tfidf_256.csv  \n",
            "  inflating: data/schizophrenia_2018_features_tfidf_256.csv  \n",
            "  inflating: data/ptsd_pre_features_tfidf_256.csv  \n",
            "  inflating: data/jokes_2018_features_tfidf_256.csv  \n",
            "  inflating: data/fitness_2018_features_tfidf_256.csv  \n",
            "  inflating: data/bipolarreddit_post_features_tfidf_256.csv  \n",
            "  inflating: data/depression_pre_features_tfidf_256.csv  \n",
            "  inflating: data/fitness_2019_features_tfidf_256.csv  \n",
            "  inflating: data/jokes_2019_features_tfidf_256.csv  \n",
            "  inflating: data/legaladvice_post_features_tfidf_256.csv  \n",
            "  inflating: data/meditation_2019_features_tfidf_256.csv  \n",
            "  inflating: data/schizophrenia_2019_features_tfidf_256.csv  \n",
            "  inflating: data/bipolarreddit_2018_features_tfidf_256.csv  \n",
            "  inflating: data/fitness_post_features_tfidf_256.csv  \n",
            "  inflating: data/jokes_post_features_tfidf_256.csv  \n",
            "  inflating: data/meditation_post_features_tfidf_256.csv  \n",
            "  inflating: data/legaladvice_2019_features_tfidf_256.csv  \n",
            "  inflating: data/divorce_pre_features_tfidf_256.csv  \n",
            "  inflating: data/schizophrenia_post_features_tfidf_256.csv  \n",
            "  inflating: data/lonely_2019_features_tfidf_256.csv  \n",
            "  inflating: data/legaladvice_pre_features_tfidf_256.csv  \n",
            "  inflating: data/teaching_2018_features_tfidf_256.csv  \n",
            "  inflating: data/ptsd_post_features_tfidf_256.csv  \n",
            "  inflating: data/socialanxiety_2018_features_tfidf_256.csv  \n",
            "  inflating: data/adhd_post_features_tfidf_256.csv  \n",
            "  inflating: data/relationships_post_features_tfidf_256.csv  \n",
            "  inflating: data/lonely_post_features_tfidf_256.csv  \n",
            "  inflating: data/ptsd_2019_features_tfidf_256.csv  \n",
            "  inflating: data/teaching_pre_features_tfidf_256.csv  \n",
            "  inflating: data/adhd_2019_features_tfidf_256.csv  \n",
            "  inflating: data/autism_2018_features_tfidf_256.csv  \n",
            "  inflating: data/relationships_2019_features_tfidf_256.csv  \n",
            "  inflating: data/personalfinance_pre_features_tfidf_256.csv  \n",
            "  inflating: data/EDAnonymous_post_features_tfidf_256.csv  \n",
            "  inflating: data/addiction_2018_features_tfidf_256.csv  \n",
            "  inflating: data/healthanxiety_2019_features_tfidf_256.csv  \n",
            "  inflating: data/addiction_pre_features_tfidf_256.csv  \n",
            "  inflating: data/suicidewatch_2018_features_tfidf_256.csv  \n",
            "  inflating: data/conspiracy_pre_features_tfidf_256.csv  \n",
            "  inflating: data/guns_2019_features_tfidf_256.csv  \n",
            "  inflating: data/conspiracy_2019_features_tfidf_256.csv  \n",
            "  inflating: data/COVID19_support_post_features_tfidf_256.csv  \n",
            "  inflating: data/anxiety_2019_features_tfidf_256.csv  \n",
            "  inflating: data/EDAnonymous_2019_features_tfidf_256.csv  \n",
            "  inflating: data/healthanxiety_post_features_tfidf_256.csv  \n",
            "  inflating: data/divorce_2018_features_tfidf_256.csv  \n",
            "  inflating: data/conspiracy_post_features_tfidf_256.csv  \n",
            "  inflating: data/guns_post_features_tfidf_256.csv  \n",
            "  inflating: data/anxiety_post_features_tfidf_256.csv  \n",
            "  inflating: data/alcoholism_2019_features_tfidf_256.csv  \n",
            "  inflating: data/parenting_2018_features_tfidf_256.csv  \n",
            "  inflating: data/bpd_2019_features_tfidf_256.csv  \n",
            "  inflating: data/socialanxiety_pre_features_tfidf_256.csv  \n",
            "  inflating: data/autism_pre_features_tfidf_256.csv  \n",
            "  inflating: data/adhd_pre_features_tfidf_256.csv  \n",
            "  inflating: data/depression_2018_features_tfidf_256.csv  \n",
            "  inflating: data/schizophrenia_pre_features_tfidf_256.csv  \n",
            "  inflating: data/EDAnonymous_pre_features_tfidf_256.csv  \n",
            "  inflating: data/alcoholism_post_features_tfidf_256.csv  \n",
            "  inflating: data/mentalhealth_2018_features_tfidf_256.csv  \n",
            "  inflating: data/personalfinance_2018_features_tfidf_256.csv  \n",
            "  inflating: data/bpd_post_features_tfidf_256.csv  \n",
            "  inflating: data/personalfinance_2019_features_tfidf_256.csv  \n",
            "  inflating: data/anxiety_pre_features_tfidf_256.csv  \n",
            "  inflating: data/healthanxiety_pre_features_tfidf_256.csv  \n",
            "  inflating: data/mentalhealth_2019_features_tfidf_256.csv  \n",
            "  inflating: data/parenting_post_features_tfidf_256.csv  \n",
            "  inflating: data/fitness_pre_features_tfidf_256.csv  \n",
            "  inflating: data/depression_2019_features_tfidf_256.csv  \n",
            "  inflating: data/personalfinance_post_features_tfidf_256.csv  \n",
            "  inflating: data/bpd_2018_features_tfidf_256.csv  \n",
            "  inflating: data/alcoholism_2018_features_tfidf_256.csv  \n",
            "  inflating: data/parenting_2019_features_tfidf_256.csv  \n",
            "  inflating: data/mentalhealth_post_features_tfidf_256.csv  \n",
            "  inflating: data/parenting_pre_features_tfidf_256.csv  \n",
            "  inflating: data/jokes_pre_features_tfidf_256.csv  \n",
            "  inflating: data/depression_post_features_tfidf_256.csv  \n",
            "  inflating: data/meditation_pre_features_tfidf_256.csv  \n",
            "  inflating: data/suicidewatch_post_features_tfidf_256.csv  \n",
            "  inflating: data/divorce_2019_features_tfidf_256.csv  \n",
            "  inflating: data/addiction_post_features_tfidf_256.csv  \n",
            "  inflating: data/relationships_pre_features_tfidf_256.csv  \n",
            "  inflating: data/anxiety_2018_features_tfidf_256.csv  \n",
            "  inflating: data/conspiracy_2018_features_tfidf_256.csv  \n",
            "  inflating: data/guns_2018_features_tfidf_256.csv  \n",
            "  inflating: data/bpd_pre_features_tfidf_256.csv  \n",
            "  inflating: data/suicidewatch_2019_features_tfidf_256.csv  \n",
            "  inflating: data/bipolarreddit_pre_features_tfidf_256.csv  \n",
            "  inflating: data/healthanxiety_2018_features_tfidf_256.csv  \n",
            "  inflating: data/divorce_post_features_tfidf_256.csv  \n",
            "  inflating: data/addiction_2019_features_tfidf_256.csv  \n"
          ]
        }
      ],
      "source": [
        "from huggingface_hub import hf_hub_download\n",
        "hf_hub_download(repo_id=\"JeremiahZ/reddit\", filename=\"reddit.zip\", local_dir=\".\", repo_type=\"dataset\")\n",
        "# unzip the zip file\n",
        "!unzip reddit.zip\n",
        "!rm -rf reddit.zip"
      ]
    },
    {
      "cell_type": "markdown",
      "source": [],
      "metadata": {
        "id": "tyqWLO985bz7"
      }
    },
    {
      "cell_type": "code",
      "source": [
        "hf_hub_download(repo_id=\"JeremiahZ/reddit_lda\", filename=\"lda_model.zip\", local_dir=\".\", )\n",
        "# unzip the zip file\n",
        "!unzip lda_model.zip\n",
        "!rm -rf lda_model.zip"
      ],
      "metadata": {
        "colab": {
          "base_uri": "https://localhost:8080/",
          "height": 153,
          "referenced_widgets": [
            "aca7e29e5791473fb8d003247a2ba225",
            "e797e9f83e89497c98d431fcd3b7c14c",
            "aa955f6dd270425690f3b5b6caa17c74",
            "2c4e2898ff4b448e86539f6432038313",
            "c400a31f98d344fdaf3683d2535f6632",
            "22651ab25b1a435c90f71ec2c2209aa0",
            "cb993568f97c428992d52137b27f4b8b",
            "29d339fdf7b0483ca17f86aa517ff0e2",
            "89fae78918d24699aad6fe719aa8608c",
            "d606d3409128444694d483d648d728b0",
            "068eb23e4dcc48cb98e1f7fde7cad872"
          ]
        },
        "id": "sKiGByO9wT-r",
        "outputId": "52bd6723-7983-4259-9f55-be1591180ddb"
      },
      "execution_count": 2,
      "outputs": [
        {
          "output_type": "display_data",
          "data": {
            "text/plain": [
              "lda_model.zip:   0%|          | 0.00/2.08M [00:00<?, ?B/s]"
            ],
            "application/vnd.jupyter.widget-view+json": {
              "version_major": 2,
              "version_minor": 0,
              "model_id": "aca7e29e5791473fb8d003247a2ba225"
            }
          },
          "metadata": {}
        },
        {
          "output_type": "stream",
          "name": "stdout",
          "text": [
            "Archive:  lda_model.zip\n",
            "   creating: output/lda_models/\n",
            "  inflating: output/lda_models/model_pre_10.state  \n",
            "  inflating: output/lda_models/model_pre_10  \n",
            "  inflating: output/lda_models/model_pre_10.expElogbeta.npy  \n",
            "  inflating: output/lda_models/model_pre_10.id2word  \n"
          ]
        }
      ]
    },
    {
      "cell_type": "code",
      "execution_count": 3,
      "metadata": {
        "colab": {
          "base_uri": "https://localhost:8080/"
        },
        "id": "BhBMiZhBeACq",
        "outputId": "7cfc5f68-6e07-44fe-d4d7-71d7cba92316"
      },
      "outputs": [
        {
          "output_type": "stream",
          "name": "stderr",
          "text": [
            "[nltk_data] Downloading package wordnet to /root/nltk_data...\n"
          ]
        }
      ],
      "source": [
        "import os\n",
        "import pandas as pd\n",
        "import gensim\n",
        "from gensim.utils import simple_preprocess\n",
        "from gensim.parsing.preprocessing import STOPWORDS\n",
        "from gensim import corpora, models\n",
        "from gensim.models import Phrases\n",
        "from gensim.test.utils import datapath\n",
        "from nltk.stem import WordNetLemmatizer, SnowballStemmer\n",
        "from nltk.stem.porter import *\n",
        "import numpy as np\n",
        "np.random.seed(2018)\n",
        "import nltk\n",
        "import seaborn as sns\n",
        "import datetime\n",
        "import matplotlib.pyplot as plt\n",
        "nltk.download('wordnet')\n",
        "stemmer = SnowballStemmer(language='english')"
      ]
    },
    {
      "cell_type": "markdown",
      "metadata": {
        "id": "huNrVL1lpyDG"
      },
      "source": [
        "## Extract out documents from Pre-Pandemic Data and Pre-Process\n",
        "\n",
        "Procedure adapted from: https://towardsdatascience.com/topic-modeling-and-latent-dirichlet-allocation-in-python-9bf156893c24"
      ]
    },
    {
      "cell_type": "code",
      "execution_count": 4,
      "metadata": {
        "id": "Bw1tYoCrd6Is"
      },
      "outputs": [],
      "source": [
        "'''\n",
        "We extract out a sampling of posts from pre- and mid-pandemic mental health subreddits.\n",
        "These are stemmed and lemmatized. They are then made into a dictionary and are used\n",
        "to create a bag of words corpus. This corpus and dictionary are used to form the LDA model.\n",
        "\n",
        "'''\n",
        "\n",
        "data_folder = './data/'\n",
        "output_path = \"./data/output/\"\n",
        "\n",
        "pre_pandemic = True\n",
        "\n",
        "pre_files = ['suicidewatch_pre_features_tfidf_256.csv',\n",
        "        'depression_pre_features_tfidf_256.csv',\n",
        "        'ptsd_pre_features_tfidf_256.csv',\n",
        "        'anxiety_pre_features_tfidf_256.csv',\n",
        "        'socialanxiety_pre_features_tfidf_256.csv',\n",
        "        'bipolarreddit_pre_features_tfidf_256.csv',\n",
        "        'bpd_pre_features_tfidf_256.csv',\n",
        "        'schizophrenia_pre_features_tfidf_256.csv',\n",
        "        'EDAnonymous_pre_features_tfidf_256.csv',\n",
        "        'alcoholism_pre_features_tfidf_256.csv',\n",
        "        'addiction_pre_features_tfidf_256.csv',\n",
        "        'adhd_pre_features_tfidf_256.csv',\n",
        "        'autism_pre_features_tfidf_256.csv',\n",
        "        'lonely_pre_features_tfidf_256.csv']\n",
        "\n",
        "mid_files = ['suicidewatch_post_features_tfidf_256.csv',\n",
        "        'depression_post_features_tfidf_256.csv',\n",
        "        'ptsd_post_features_tfidf_256.csv',\n",
        "        'anxiety_post_features_tfidf_256.csv',\n",
        "        'socialanxiety_post_features_tfidf_256.csv',\n",
        "        'bipolarreddit_post_features_tfidf_256.csv',\n",
        "        'bpd_post_features_tfidf_256.csv',\n",
        "        'schizophrenia_post_features_tfidf_256.csv',\n",
        "        'EDAnonymous_post_features_tfidf_256.csv',\n",
        "        'alcoholism_post_features_tfidf_256.csv',\n",
        "        'addiction_post_features_tfidf_256.csv',\n",
        "        'adhd_post_features_tfidf_256.csv',\n",
        "        'autism_post_features_tfidf_256.csv',\n",
        "        'lonely_post_features_tfidf_256.csv']\n",
        "\n",
        "\n",
        "pre_sample = 2700\n",
        "mid_sample = 1300\n",
        "sample = pre_sample if pre_pandemic else mid_sample\n",
        "files = pre_files if pre_pandemic else mid_files\n",
        "\n",
        "# can use these dates for generating the mid-pandemic model with the acute phase of the pandemic\n",
        "# to use, uncomment date lines below\n",
        "beg_date = datetime.datetime(2020, 3, 16)\n",
        "end_date = datetime.datetime(2020, 4, 20)\n",
        "\n",
        "health_anxiety_file = 'healthanxiety_pre_features_tfidf_256.csv' if pre_pandemic else 'healthanxiety_post_features_tfidf_256.csv'\n",
        "\n",
        "data = pd.read_csv(os.path.join(data_folder, health_anxiety_file))\n",
        "data = data.sample(sample)\n",
        "# data['date'] = pd.to_datetime(data['date'], format=\"%Y/%m/%d\")\n",
        "# data = data.loc[(data['date'] >= beg_date)]\n",
        "# data =  data.loc[(data['date'] < end_date)]\n",
        "data_text = data.loc[:,['post']]\n",
        "\n",
        "for file in files:\n",
        "    data = pd.read_csv(os.path.join(data_folder, file));\n",
        "    data = data.sample(sample)\n",
        "#     data['date'] = pd.to_datetime(data['date'], format=\"%Y/%m/%d\")\n",
        "#     data = data.loc[(data['date'] >= beg_date)]\n",
        "#     data =  data.loc[(data['date'] < end_date)]\n",
        "    data_text = pd.concat([data_text, data.loc[:,['post']]], axis=0, ignore_index=True)\n",
        "data_text['index'] = data_text.index"
      ]
    },
    {
      "cell_type": "code",
      "execution_count": 5,
      "metadata": {
        "id": "xo77BHhId6Iv",
        "colab": {
          "base_uri": "https://localhost:8080/"
        },
        "outputId": "0f2e9a86-f69b-4038-a250-81370c99b95f"
      },
      "outputs": [
        {
          "output_type": "stream",
          "name": "stdout",
          "text": [
            "(40500, 2)\n"
          ]
        }
      ],
      "source": [
        "documents = data_text\n",
        "# Look at shape of documents and a sample post\n",
        "print(documents.shape)\n",
        "# print(documents.iloc[20][0])"
      ]
    },
    {
      "cell_type": "code",
      "execution_count": 6,
      "metadata": {
        "id": "hvlBjW3ad6I2"
      },
      "outputs": [],
      "source": [
        "# Methods for stemming and lemmatizing all posts\n",
        "def lemmatize_stemming(text):\n",
        "    return stemmer.stem(WordNetLemmatizer().lemmatize(text, pos='v'))\n",
        "def preprocess(text):\n",
        "    result = []\n",
        "    for token in gensim.utils.simple_preprocess(text):\n",
        "        if token not in gensim.parsing.preprocessing.STOPWORDS and len(token) > 3:\n",
        "            result.append(lemmatize_stemming(token))\n",
        "    return result"
      ]
    },
    {
      "cell_type": "code",
      "execution_count": null,
      "metadata": {
        "id": "XOcdiNzE6eIX"
      },
      "outputs": [],
      "source": [
        "# Preprocess all documents to stem and lemmatize the words\n",
        "processed_docs = documents['post'].map(preprocess)\n",
        "# Add bigrams and trigrams to docs (only ones that appear 20 times or more).\n",
        "bigram = Phrases(processed_docs, min_count=20)\n",
        "for idx in range(len(processed_docs)):\n",
        "    for token in bigram[processed_docs[idx]]:\n",
        "        if '_' in token:\n",
        "            # Token is a bigram, add to document.\n",
        "            processed_docs[idx].append(token)"
      ]
    },
    {
      "cell_type": "code",
      "execution_count": null,
      "metadata": {
        "id": "cV2f5vudd6JA"
      },
      "outputs": [],
      "source": [
        "# Use processed documents to create a dictionary of unigrams and bigrams. Filter to include only top 100k.\n",
        "dictionary = gensim.corpora.Dictionary(processed_docs)\n",
        "dictionary.filter_extremes(no_below=0.001, no_above=0.5, keep_n=100000)"
      ]
    },
    {
      "cell_type": "markdown",
      "source": [
        "## Let's look at most common Unigrams and Bigrams"
      ],
      "metadata": {
        "id": "F15Zw7LEIY7c"
      }
    },
    {
      "cell_type": "code",
      "source": [
        "print(\"Unigrams:\\n\")\n",
        "count=0\n",
        "for k, v in dictionary.iteritems():\n",
        "    if '_' in v:\n",
        "      continue\n",
        "    print(k, v)\n",
        "    count += 1\n",
        "    if count > 10:\n",
        "        break"
      ],
      "metadata": {
        "id": "YWoSEa6JuBs1"
      },
      "execution_count": null,
      "outputs": []
    },
    {
      "cell_type": "code",
      "source": [
        "print(\"Bigrams:\\n\")\n",
        "count=0\n",
        "for k, v in dictionary.iteritems():\n",
        "    if '_' not in v:\n",
        "      continue\n",
        "    print(k, v)\n",
        "    count += 1\n",
        "    if count > 10:\n",
        "        break"
      ],
      "metadata": {
        "id": "U_rSYteUuTT8"
      },
      "execution_count": null,
      "outputs": []
    },
    {
      "cell_type": "markdown",
      "source": [
        "#Generate  the top 10 bigrams per subredit. How do we idenitfy loneliness and isolation?"
      ],
      "metadata": {
        "id": "xQ9Q3WCdfd0_"
      }
    },
    {
      "cell_type": "code",
      "execution_count": null,
      "metadata": {
        "id": "ecBoDDVRd6JD"
      },
      "outputs": [],
      "source": [
        "# Transform all processed documents into bag of words format based on dictionary.\n",
        "bow_corpus = [dictionary.doc2bow(doc) for doc in processed_docs]"
      ]
    },
    {
      "cell_type": "markdown",
      "metadata": {
        "id": "RDpUVs6h5YL5"
      },
      "source": [
        "## Create and Save LDA Model\n",
        "To save time, we are going to load the pre-computed LDA model that is trained on pre-pandemic mental health related reddits"
      ]
    },
    {
      "cell_type": "code",
      "execution_count": null,
      "metadata": {
        "id": "FTg2nZ4xd6JK"
      },
      "outputs": [],
      "source": [
        "# Create LDA model and print out topics\n",
        "# lda_model = gensim.models.LdaMulticore(corpus=bow_corpus, num_topics=10, id2word=dictionary, passes=25, workers=3)\n",
        "\n",
        "# for idx, topic in lda_model.print_topics(-1):\n",
        "#     print('Topic: {} \\nWords: {}'.format(idx, topic))"
      ]
    },
    {
      "cell_type": "code",
      "execution_count": null,
      "metadata": {
        "id": "zBRSKQNed6JR"
      },
      "outputs": [],
      "source": [
        "# Process a sample document to see the topics that are contained in that document\n",
        "# print(processed_docs[5000])\n",
        "\n",
        "# for index, score in sorted(lda_model[bow_corpus[3]], key=lambda tup: -1*tup[1]):\n",
        "#     print(\"\\nScore: {}\\t \\nTopic: {}\".format(score, lda_model.print_topic(index, 10)))"
      ]
    },
    {
      "cell_type": "code",
      "execution_count": null,
      "metadata": {
        "id": "A8_xTFkVtcVj"
      },
      "outputs": [],
      "source": [
        "output_path = f\"{os.getcwd()}\"\n",
        "output_path = os.path.join(output_path, 'output')\n",
        "lda_output_path = os.path.join(output_path, 'lda_models')\n",
        "model_name = \"model_pre_10\"\n",
        "model_path_name = datapath(os.path.join(lda_output_path, model_name))\n",
        "# os.makedirs(lda_output_path, exist_ok=True)\n",
        "\n",
        "# Save model to disk.\n",
        "# lda_model.save(model_path_name)\n",
        "\n",
        "# Load a pretrained model from disk.\n",
        "lda_model = gensim.models.LdaMulticore.load(model_path_name)\n",
        "dictionary = gensim.corpora.Dictionary.load(os.path.join(lda_output_path, \"{}.id2word\".format(model_name)))"
      ]
    },
    {
      "cell_type": "code",
      "execution_count": null,
      "metadata": {
        "id": "-UBC8yURBCEM"
      },
      "outputs": [],
      "source": [
        "for idx, topic in lda_model.print_topics(-1):\n",
        "    print('Topic: {} \\nWords: {}'.format(idx, topic))"
      ]
    },
    {
      "cell_type": "markdown",
      "metadata": {
        "id": "yeEhjoTXtn30"
      },
      "source": [
        "## Apply LDA Model to all data\n",
        "\n",
        "Use LDA model created above - apply to all data and create a heatmap."
      ]
    },
    {
      "cell_type": "code",
      "execution_count": null,
      "metadata": {
        "id": "rMVBJYq6BCEM"
      },
      "outputs": [],
      "source": [
        "# labels of LDA topics, depending on the model you have chosen\n",
        "pre_topics = ['Autism/ADHD + \\nSchool/Work', 'Alcohol/Addiction', 'Sleep Issues',\n",
        "              'Alcohol/Eating Disorders', 'Social Interaction', 'Schizophrenia',\n",
        "              'Medical/Medication', 'Health Anxiety', 'Mental Health Help', 'Life']\n",
        "\n",
        "mid_topics = ['Health Anxiety', 'Autism/Social', 'ADHD/Diagnosis',\n",
        "                             'Work/School/Home', 'Eating Disorder', 'Alcohol/Addiction',\n",
        "                             'Family', 'Sleep Issues', 'Social/Life', 'Mental Health/PTSD']\n",
        "\n",
        "distribution_output_path = os.path.join(output_path, 'lda_distribution')\n",
        "\n",
        "num_topics = 10"
      ]
    },
    {
      "cell_type": "markdown",
      "metadata": {
        "id": "4p0wkqqZt6dg"
      },
      "source": [
        "Create heatmap and run LDA model on all pre-pandemic mental health posts"
      ]
    },
    {
      "cell_type": "code",
      "execution_count": null,
      "metadata": {
        "id": "GNvZtyvdtmtp"
      },
      "outputs": [],
      "source": [
        "files = ['suicidewatch_pre_features_tfidf_256.csv',\n",
        "        'depression_pre_features_tfidf_256.csv',\n",
        "        'ptsd_pre_features_tfidf_256.csv',\n",
        "        'anxiety_pre_features_tfidf_256.csv',\n",
        "        'socialanxiety_pre_features_tfidf_256.csv',\n",
        "        'healthanxiety_pre_features_tfidf_256.csv',\n",
        "        'bipolarreddit_pre_features_tfidf_256.csv',\n",
        "        'bpd_pre_features_tfidf_256.csv',\n",
        "        'schizophrenia_pre_features_tfidf_256.csv',\n",
        "        'EDAnonymous_pre_features_tfidf_256.csv',\n",
        "        'alcoholism_pre_features_tfidf_256.csv',\n",
        "        'addiction_pre_features_tfidf_256.csv',\n",
        "        'adhd_pre_features_tfidf_256.csv',\n",
        "         'autism_pre_features_tfidf_256.csv',\n",
        "         'lonely_pre_features_tfidf_256.csv',\n",
        "        'mentalhealth_pre_features_tfidf_256.csv'\n",
        "        ]\n",
        "\n",
        "pre_mental_df = pd.DataFrame(columns=range(num_topics))\n",
        "\n",
        "for file in files:\n",
        "  df = pd.read_csv(os.path.join(data_folder, file)).sample(1000);\n",
        "  posts = df.post\n",
        "  posts = [dictionary.doc2bow(preprocess(post)) for post in posts]\n",
        "  scores = np.zeros(shape=num_topics)\n",
        "  for post in posts:\n",
        "    topics = lda_model[post]\n",
        "    for index, score in topics:\n",
        "      scores[index] += score\n",
        "  scores /= len(posts)\n",
        "  # Add a new row at index k with values provided in list\n",
        "  pre_mental_df.loc[os.path.splitext(file)[0]] = scores.tolist()\n",
        "\n",
        "os.makedirs(distribution_output_path, exist_ok=True)\n",
        "# pre_mental_df.to_csv(os.path.join(distribution_output_path, 'pre_mentalhealth_distribution.csv'))"
      ]
    },
    {
      "cell_type": "code",
      "execution_count": null,
      "metadata": {
        "id": "S-UkQb6PqcnI"
      },
      "outputs": [],
      "source": [
        "plt.figure(figsize=(12, 9))\n",
        "ylabels = [file.split('_')[0] for file in files]\n",
        "sns.set(style='white', font_scale=1, palette=sns.color_palette(\"husl\",15))\n",
        "chart = sns.heatmap(pre_mental_df, vmin=0, vmax=0.75, annot=True, xticklabels=pre_topics, yticklabels=ylabels)\n",
        "chart.set_xticklabels(\n",
        "    chart.get_xticklabels(),\n",
        "    rotation=45,\n",
        "    horizontalalignment='right',\n",
        "    fontsize=15\n",
        "\n",
        ")\n",
        "chart.set_yticklabels(\n",
        "    chart.get_yticklabels(),\n",
        "    fontsize=15\n",
        "\n",
        ")\n",
        "plt.title('Pre-Pandemic Mental Health LDA')\n",
        "plt.xlabel('Topics', fontsize=15)\n",
        "plt.ylabel('Subreddit', fontsize=15)\n",
        "# plt.savefig(os.path.join(distribution_output_path, 'pre_mentalhealth.png'),\n",
        "#             format='png', dpi=400, bbox_inches='tight')\n",
        "plt.show()"
      ]
    },
    {
      "cell_type": "markdown",
      "source": [
        "## Sentiment Analysis for pre- and mid-pandemic posts"
      ],
      "metadata": {
        "id": "01XGFusNI5fU"
      }
    },
    {
      "cell_type": "code",
      "source": [
        "# Download the lexicon\n",
        "nltk.download(\"vader_lexicon\")\n",
        "from nltk.sentiment.vader import SentimentIntensityAnalyzer\n",
        "\n",
        "# Create an instance of SentimentIntensityAnalyzer\n",
        "sent_analyzer = SentimentIntensityAnalyzer()\n",
        "\n",
        "# Example\n",
        "sentence = \"VADER is pretty good at identifying the underlying sentiment of a text!\"\n",
        "print(sent_analyzer.polarity_scores(sentence))"
      ],
      "metadata": {
        "id": "QpdmbOAaCYWx"
      },
      "execution_count": null,
      "outputs": []
    },
    {
      "cell_type": "markdown",
      "source": [
        "## The **compound** score directly reflects the emotion\n",
        "Let's compute scores over all reddits to see if pandemic is causing negative emotions on the whole"
      ],
      "metadata": {
        "id": "TvayOeeyJC1L"
      }
    },
    {
      "cell_type": "code",
      "source": [
        "files = ['suicidewatch_pre_features_tfidf_256.csv',\n",
        "        'depression_pre_features_tfidf_256.csv',\n",
        "        'ptsd_pre_features_tfidf_256.csv',\n",
        "        'anxiety_pre_features_tfidf_256.csv',\n",
        "        'socialanxiety_pre_features_tfidf_256.csv',\n",
        "        'healthanxiety_pre_features_tfidf_256.csv',\n",
        "        'bipolarreddit_pre_features_tfidf_256.csv',\n",
        "        'bpd_pre_features_tfidf_256.csv',\n",
        "        'schizophrenia_pre_features_tfidf_256.csv',\n",
        "        'EDAnonymous_pre_features_tfidf_256.csv',\n",
        "        'alcoholism_pre_features_tfidf_256.csv',\n",
        "        'addiction_pre_features_tfidf_256.csv',\n",
        "        'adhd_pre_features_tfidf_256.csv',\n",
        "         'autism_pre_features_tfidf_256.csv',\n",
        "         'lonely_pre_features_tfidf_256.csv',\n",
        "        'mentalhealth_pre_features_tfidf_256.csv'\n",
        "        ]\n",
        "\n",
        "def get_sentiment_score(file_name:str):\n",
        "  df = pd.read_csv(os.path.join(data_folder, file)).sample(100)\n",
        "  posts = df.post\n",
        "  scores = [sent_analyzer.polarity_scores(post) for post in posts]\n",
        "  return scores\n",
        "pre_scores ={}\n",
        "for filename in files:\n",
        "    pre_scores[filename.split('_')[0]] = get_sentiment_score(filename)"
      ],
      "metadata": {
        "id": "J3_G4TFRDCEh"
      },
      "execution_count": null,
      "outputs": []
    },
    {
      "cell_type": "markdown",
      "metadata": {
        "id": "mNAnQO4y-jIU"
      },
      "source": [
        "Create heatmap and run LDA model on all mid-pandemic mental health posts"
      ]
    },
    {
      "cell_type": "code",
      "execution_count": null,
      "metadata": {
        "id": "5ph7nyCjy71W"
      },
      "outputs": [],
      "source": [
        "files = ['suicidewatch_post_features_tfidf_256.csv',\n",
        "        'depression_post_features_tfidf_256.csv',\n",
        "        'ptsd_post_features_tfidf_256.csv',\n",
        "        'anxiety_post_features_tfidf_256.csv',\n",
        "        'socialanxiety_post_features_tfidf_256.csv',\n",
        "        'healthanxiety_post_features_tfidf_256.csv',\n",
        "        'bipolarreddit_post_features_tfidf_256.csv',\n",
        "        'bpd_post_features_tfidf_256.csv',\n",
        "        'schizophrenia_post_features_tfidf_256.csv',\n",
        "        'EDAnonymous_post_features_tfidf_256.csv',\n",
        "        'alcoholism_post_features_tfidf_256.csv',\n",
        "        'addiction_post_features_tfidf_256.csv',\n",
        "        'adhd_post_features_tfidf_256.csv',\n",
        "         'autism_post_features_tfidf_256.csv',\n",
        "         'lonely_post_features_tfidf_256.csv',\n",
        "        'mentalhealth_post_features_tfidf_256.csv'\n",
        "        ]\n",
        "\n",
        "mid_mental_df = pd.DataFrame(columns=range(num_topics))\n",
        "beg_date = datetime.datetime(2020, 3, 16)\n",
        "\n",
        "for file in files:\n",
        "  df = pd.read_csv(os.path.join(data_folder, file)).sample(1000);\n",
        "  df['date'] = pd.to_datetime(df['date'], format=\"%Y/%m/%d\")\n",
        "  df_mid = df.loc[df['date'] >= beg_date]\n",
        "  posts = df_mid.post\n",
        "  posts = [dictionary.doc2bow(preprocess(post)) for post in posts]\n",
        "  scores = np.zeros(shape=num_topics)\n",
        "  for post in posts:\n",
        "    topics = lda_model[post]\n",
        "    for index, score in topics:\n",
        "      scores[index] += score\n",
        "  scores /= len(posts)\n",
        "  # Add a new row at index k with values provided in list\n",
        "  mid_mental_df.loc[os.path.splitext(file)[0]] = scores.tolist()\n",
        "\n",
        "mid_mental_df.to_csv(os.path.join(distribution_output_path, 'mid_mentalhealth_distribution.csv'))\n",
        "\n",
        "plt.figure(figsize=(12, 9))\n",
        "ylabels = [file.split('_')[0] for file in files]\n",
        "sns.set(style='white', font_scale=1, palette=sns.color_palette(\"husl\",15))\n",
        "chart = sns.heatmap(mid_mental_df, vmin=0, vmax=0.75, annot=True,\n",
        "                    xticklabels=pre_topics, yticklabels=ylabels)\n",
        "chart.set_xticklabels(\n",
        "    chart.get_xticklabels(),\n",
        "    rotation=45,\n",
        "    horizontalalignment='right',\n",
        "    fontsize=15\n",
        "\n",
        ")\n",
        "chart.set_yticklabels(\n",
        "    chart.get_yticklabels(),\n",
        "    fontsize=15\n",
        "\n",
        ")\n",
        "plt.title('Mid-Pandemic Mental Health LDA')\n",
        "plt.xlabel('Topics', fontsize=15)\n",
        "plt.ylabel('Subreddit', fontsize=15)\n",
        "# plt.savefig(os.path.join(distribution_output_path, 'mid_mentalhealth.png'),\n",
        "#             format='png', dpi=400, bbox_inches='tight')\n",
        "plt.show()"
      ]
    },
    {
      "cell_type": "markdown",
      "source": [
        "## Let's also compute emotion scores on post mid-pandemic"
      ],
      "metadata": {
        "id": "f-SKGZukJjXo"
      }
    },
    {
      "cell_type": "code",
      "source": [
        "files = ['suicidewatch_post_features_tfidf_256.csv',\n",
        "        'depression_post_features_tfidf_256.csv',\n",
        "        'ptsd_post_features_tfidf_256.csv',\n",
        "        'anxiety_post_features_tfidf_256.csv',\n",
        "        'socialanxiety_post_features_tfidf_256.csv',\n",
        "        'healthanxiety_post_features_tfidf_256.csv',\n",
        "        'bipolarreddit_post_features_tfidf_256.csv',\n",
        "        'bpd_post_features_tfidf_256.csv',\n",
        "        'schizophrenia_post_features_tfidf_256.csv',\n",
        "        'EDAnonymous_post_features_tfidf_256.csv',\n",
        "        'alcoholism_post_features_tfidf_256.csv',\n",
        "        'addiction_post_features_tfidf_256.csv',\n",
        "        'adhd_post_features_tfidf_256.csv',\n",
        "         'autism_post_features_tfidf_256.csv',\n",
        "         'lonely_post_features_tfidf_256.csv',\n",
        "        'mentalhealth_post_features_tfidf_256.csv'\n",
        "        ]\n",
        "beg_date = datetime.datetime(2020, 3, 16)\n",
        "\n",
        "def get_compound_score_mid(file_name:str):\n",
        "  df = pd.read_csv(os.path.join(data_folder, file_name)).sample(100)\n",
        "  df['date'] = pd.to_datetime(df['date'], format=\"%Y/%m/%d\")\n",
        "  df_mid = df.loc[df['date'] >= beg_date]\n",
        "  posts = df_mid.post\n",
        "  scores = [sent_analyzer.polarity_scores(post) for post in posts]\n",
        "  # scores = [sent_analyzer.polarity_scores(post)['compound'] for post in posts]\n",
        "  return scores\n",
        "\n",
        "mid_scores ={}\n",
        "for filename in files:\n",
        "    mid_scores[filename.split('_')[0]] = get_sentiment_score(filename)"
      ],
      "metadata": {
        "id": "wLEhccC3Euwk"
      },
      "execution_count": null,
      "outputs": []
    },
    {
      "cell_type": "code",
      "source": [
        "mid_scores['suicidewatch_post_features_tfidf_256.csv'][0]"
      ],
      "metadata": {
        "id": "R7JLb2aB3GIx"
      },
      "execution_count": null,
      "outputs": []
    },
    {
      "cell_type": "markdown",
      "metadata": {
        "id": "96qAcFQa-sgT"
      },
      "source": [
        "Create heatmap and run LDA model on all pre-pandemic non-mental health posts"
      ]
    },
    {
      "cell_type": "code",
      "execution_count": null,
      "metadata": {
        "id": "90kZGmX4-xj6"
      },
      "outputs": [],
      "source": [
        "files = ['meditation_pre_features_tfidf_256.csv',\n",
        "          'personalfinance_pre_features_tfidf_256.csv',\n",
        "          'teaching_pre_features_tfidf_256.csv',\n",
        "          'relationships_pre_features_tfidf_256.csv',\n",
        "          'legaladvice_pre_features_tfidf_256.csv',\n",
        "          'fitness_pre_features_tfidf_256.csv',\n",
        "          'parenting_pre_features_tfidf_256.csv',\n",
        "          'divorce_pre_features_tfidf_256.csv',\n",
        "         'conspiracy_pre_features_tfidf_256.csv',\n",
        "         'guns_pre_features_tfidf_256.csv',\n",
        "         'jokes_pre_features_tfidf_256.csv']\n",
        "\n",
        "pre_nonmentalhealth_df = pd.DataFrame(columns=range(num_topics))\n",
        "\n",
        "for file in files:\n",
        "  df = pd.read_csv(os.path.join(data_folder, file)).sample(1000);\n",
        "  posts = df.post\n",
        "  posts = [dictionary.doc2bow(preprocess(post)) for post in posts]\n",
        "  scores = np.zeros(shape=num_topics)\n",
        "  for post in posts:\n",
        "    topics = lda_model[post]\n",
        "    for index, score in topics:\n",
        "      scores[index] += score\n",
        "  scores /= len(posts)\n",
        "  # Add a new row at index k with values provided in list\n",
        "  pre_nonmentalhealth_df.loc[os.path.splitext(file)[0]] = scores.tolist()\n",
        "\n",
        "pre_nonmentalhealth_df.to_csv(os.path.join(distribution_output_path, 'pre_nonmentalhealth_distribution.csv'))\n",
        "\n",
        "plt.figure(figsize=(12, 9))\n",
        "ylabels = [file.split('_')[0] for file in files]\n",
        "sns.set(style='white', font_scale=1, palette=sns.color_palette(\"husl\",15))\n",
        "chart = sns.heatmap(pre_nonmentalhealth_df, vmin=0, vmax=0.75, annot=True,\n",
        "                    xticklabels=pre_topics, yticklabels=ylabels)\n",
        "chart.set_xticklabels(\n",
        "    chart.get_xticklabels(),\n",
        "    rotation=45,\n",
        "    horizontalalignment='right',\n",
        "    fontsize=15\n",
        "\n",
        ")\n",
        "chart.set_yticklabels(\n",
        "    chart.get_yticklabels(),\n",
        "    fontsize=15\n",
        "\n",
        ")\n",
        "plt.title('Pre-Pandemic Non-Mental Health LDA')\n",
        "plt.xlabel('Topics', fontsize=15)\n",
        "plt.ylabel('Subreddit', fontsize=15)\n",
        "# plt.savefig(os.path.join(distribution_output_path, 'pre_nonmentalhealth.png'),\n",
        "#             format='png', dpi=400, bbox_inches='tight')\n",
        "plt.show()"
      ]
    },
    {
      "cell_type": "markdown",
      "metadata": {
        "id": "yxLRyAwpPPmW"
      },
      "source": [
        "Create heatmap and run LDA model on all mid-pandemic control posts"
      ]
    },
    {
      "cell_type": "code",
      "execution_count": null,
      "metadata": {
        "id": "F2dYOFxQ_kMD"
      },
      "outputs": [],
      "source": [
        "files = ['meditation_post_features_tfidf_256.csv',\n",
        "          'personalfinance_post_features_tfidf_256.csv',\n",
        "          'teaching_post_features_tfidf_256.csv',\n",
        "          'relationships_post_features_tfidf_256.csv',\n",
        "          'legaladvice_post_features_tfidf_256.csv',\n",
        "          'fitness_post_features_tfidf_256.csv',\n",
        "          'parenting_post_features_tfidf_256.csv',\n",
        "          'divorce_post_features_tfidf_256.csv',\n",
        "         'conspiracy_post_features_tfidf_256.csv',\n",
        "         'guns_post_features_tfidf_256.csv',\n",
        "         'jokes_post_features_tfidf_256.csv']\n",
        "\n",
        "mid_nonmentalhealth_df = pd.DataFrame(columns=range(num_topics))\n",
        "end_date = datetime.datetime(2020, 3, 16)\n",
        "\n",
        "for file in files:\n",
        "  df = pd.read_csv(os.path.join(data_folder, file)).sample(1000);\n",
        "  df['date'] = pd.to_datetime(df['date'], format=\"%Y/%m/%d\")\n",
        "  df_mid = df.loc[df['date'] >= end_date]\n",
        "  posts = df_mid.post\n",
        "  posts = [dictionary.doc2bow(preprocess(post)) for post in posts]\n",
        "  scores = np.zeros(shape=num_topics)\n",
        "  for post in posts:\n",
        "    topics = lda_model[post]\n",
        "    for index, score in topics:\n",
        "      scores[index] += score\n",
        "  scores /= len(posts)\n",
        "  # Add a new row at index k with values provided in list\n",
        "  mid_nonmentalhealth_df.loc[os.path.splitext(file)[0]] = scores.tolist()\n",
        "\n",
        "mid_nonmentalhealth_df.to_csv(os.path.join(distribution_output_path, 'mid_nonmentalhealth_distribution.csv'))\n",
        "\n",
        "\n",
        "plt.figure(figsize=(12, 9))\n",
        "ylabels = [file.split('_')[0] for file in files]\n",
        "sns.set(style='white', font_scale=1, palette=sns.color_palette(\"husl\",15))\n",
        "chart = sns.heatmap(mid_nonmentalhealth_df, vmin=0, vmax=0.75, annot=True,\n",
        "                    xticklabels=pre_topics, yticklabels=ylabels)\n",
        "chart.set_xticklabels(\n",
        "    chart.get_xticklabels(),\n",
        "    rotation=45,\n",
        "    horizontalalignment='right',\n",
        "    fontsize=15\n",
        "\n",
        ")\n",
        "chart.set_yticklabels(\n",
        "    chart.get_yticklabels(),\n",
        "    fontsize=15\n",
        "\n",
        ")\n",
        "plt.title('Mid-Pandemic Non-Mental Health LDA')\n",
        "plt.xlabel('Topics', fontsize=15)\n",
        "plt.ylabel('Subreddit', fontsize=15)\n",
        "# plt.savefig(os.path.join(distribution_output_path, 'pre_nonmentalhealth.png'),\n",
        "#             format='png', dpi=400, bbox_inches='tight')\n",
        "plt.show()"
      ]
    },
    {
      "cell_type": "markdown",
      "metadata": {
        "id": "qp3gH2QIPuqj"
      },
      "source": [
        "Create heatmap from LDA of pre-pandemic posts on all COVID19_Support posts to determine distribution of topics."
      ]
    },
    {
      "cell_type": "code",
      "execution_count": null,
      "metadata": {
        "id": "8kelxLm9iCQP"
      },
      "outputs": [],
      "source": [
        "files = ['COVID19_support_post_features_tfidf_256.csv']\n",
        "\n",
        "covid_topic_df = pd.DataFrame(columns=range(num_topics))\n",
        "end_date = datetime.datetime(2020, 3, 16)\n",
        "\n",
        "for file in files:\n",
        "  df = pd.read_csv(os.path.join(data_folder, file));\n",
        "  df['date'] = pd.to_datetime(df['date'], format=\"%Y/%m/%d\")\n",
        "  df_mid = df.loc[df['date'] >= end_date]\n",
        "  posts = df_mid.post\n",
        "  posts = [dictionary.doc2bow(preprocess(post)) for post in posts]\n",
        "  scores = np.zeros(shape=num_topics)\n",
        "  for post in posts:\n",
        "    topics = lda_model[post]\n",
        "    for index, score in topics:\n",
        "      scores[index] += score\n",
        "  scores /= len(posts)\n",
        "  # Add a new row at index k with values provided in list\n",
        "  covid_topic_df.loc[os.path.splitext(file)[0]] = scores.tolist()\n",
        "\n",
        "covid_topic_df.to_csv(os.path.join(distribution_output_path, 'covid_distribution_pre_model.csv'))\n",
        "\n",
        "covid_topic_df_transpose = covid_topic_df.transpose()\n",
        "fig, ax = plt.subplots()\n",
        "\n",
        "xlabels = ['COVID19_support']\n",
        "sns.set(style='white', font_scale=1, palette=sns.color_palette(\"husl\",15))\n",
        "svm = sns.heatmap(covid_topic_df_transpose, vmin=0, vmax=0.6, annot=True,\n",
        "            cbar=False, xticklabels=xlabels, yticklabels=pre_topics, square=True)\n",
        "plt.ylabel('Topics')\n",
        "\n",
        "# plt.savefig(os.path.join(distribution_output_path, 'covid19_pre_model.png'),\n",
        "#             format='png', dpi=400, bbox_inches='tight')\n",
        "plt.show()"
      ]
    },
    {
      "cell_type": "markdown",
      "metadata": {
        "id": "g1WRM9XUP5K4"
      },
      "source": [
        "Create heatmap from LDA of mid-pandemic posts on all COVID19_Support posts to determine distribution of topics. Requires loading the appropriate model into lda_model and dictionary"
      ]
    },
    {
      "cell_type": "code",
      "execution_count": null,
      "metadata": {
        "id": "aCIYlO0ZBCEO"
      },
      "outputs": [],
      "source": [
        "files = ['COVID19_support_post_features_tfidf_256.csv']\n",
        "\n",
        "covid_topic_df = pd.DataFrame(columns=range(num_topics))\n",
        "end_date = datetime.datetime(2020, 3, 16)\n",
        "\n",
        "for file in files:\n",
        "  df = pd.read_csv(os.path.join(data_folder, file));\n",
        "  df['date'] = pd.to_datetime(df['date'], format=\"%Y/%m/%d\")\n",
        "  df_mid = df.loc[df['date'] >= end_date]\n",
        "  posts = df_mid.post\n",
        "  posts = [dictionary.doc2bow(preprocess(post)) for post in posts]\n",
        "  scores = np.zeros(shape=num_topics)\n",
        "  for post in posts:\n",
        "    topics = lda_model[post]\n",
        "    for index, score in topics:\n",
        "      scores[index] += score\n",
        "  scores /= len(posts)\n",
        "  # Add a new row at index k with values provided in list\n",
        "  covid_topic_df.loc[os.path.splitext(file)[0]] = scores.tolist()\n",
        "\n",
        "covid_topic_df.to_csv(os.path.join(distribution_output_path, 'covid_distribution_mid_model.csv'))\n",
        "\n",
        "covid_topic_df_transpose = covid_topic_df.transpose()\n",
        "fig, ax = plt.subplots()\n",
        "\n",
        "xlabels = ['COVID19_support']\n",
        "sns.set(style='white', font_scale=1, palette=sns.color_palette(\"husl\",15))\n",
        "svm = sns.heatmap(covid_topic_df_transpose, vmin=0, vmax=0.6, annot=True,\n",
        "            cbar=False, xticklabels=xlabels, yticklabels=pre_topics, square=True)\n",
        "plt.ylabel('Topics')\n",
        "\n",
        "plt.savefig(os.path.join(distribution_output_path, 'covid19_mid_model.png'),\n",
        "            format='png', dpi=400, bbox_inches='tight')"
      ]
    },
    {
      "cell_type": "markdown",
      "metadata": {
        "id": "TC05T47vBCEP"
      },
      "source": [
        "Run Significance Tests"
      ]
    },
    {
      "cell_type": "code",
      "execution_count": null,
      "metadata": {
        "id": "CTHmLZEDBCEP"
      },
      "outputs": [],
      "source": [
        "pre_combined_df = pd.concat([pre_mental_df, pre_nonmentalhealth_df])\n",
        "# pre_combined.to_csv(os.path.join(distribution_output_path, 'pre_distribution.csv'))"
      ]
    },
    {
      "cell_type": "code",
      "execution_count": null,
      "metadata": {
        "id": "gATQgKXbBCEP"
      },
      "outputs": [],
      "source": [
        "mid_combined_df = pd.concat([mid_mental_df, mid_nonmentalhealth_df])\n",
        "# mid_combined_df.to_csv(os.path.join(distribution_output_path, 'mid_distribution.csv'))"
      ]
    },
    {
      "cell_type": "markdown",
      "source": [
        "## This is the most important test!\n",
        "For the ten topics selected using our LDA model, we perform significance test to see if there is a difference in the score (correlation with the topic) on all posts  "
      ],
      "metadata": {
        "id": "aBP7oseJJphq"
      }
    },
    {
      "cell_type": "code",
      "execution_count": null,
      "metadata": {
        "id": "K45oIQPqBCEP"
      },
      "outputs": [],
      "source": [
        "import scipy.stats\n",
        "for i in range(0, 10):\n",
        "    print(scipy.stats.wilcoxon(pre_combined_df[i], mid_combined_df[i]))"
      ]
    },
    {
      "cell_type": "markdown",
      "source": [
        "## Is the pandemic causing more negative feelings?"
      ],
      "metadata": {
        "id": "YZfE9-t5KISs"
      }
    },
    {
      "cell_type": "code",
      "source": [
        "from scipy import stats\n",
        "files = ['suicidewatch_post_features_tfidf_256.csv',\n",
        "        'depression_post_features_tfidf_256.csv',\n",
        "        'ptsd_post_features_tfidf_256.csv',\n",
        "        'anxiety_post_features_tfidf_256.csv',\n",
        "        'socialanxiety_post_features_tfidf_256.csv',\n",
        "        'healthanxiety_post_features_tfidf_256.csv',\n",
        "        'bipolarreddit_post_features_tfidf_256.csv',\n",
        "        'bpd_post_features_tfidf_256.csv',\n",
        "        'schizophrenia_post_features_tfidf_256.csv',\n",
        "        'EDAnonymous_post_features_tfidf_256.csv',\n",
        "        'alcoholism_post_features_tfidf_256.csv',\n",
        "        'addiction_post_features_tfidf_256.csv',\n",
        "        'adhd_post_features_tfidf_256.csv',\n",
        "         'autism_post_features_tfidf_256.csv',\n",
        "         'lonely_post_features_tfidf_256.csv',\n",
        "        'mentalhealth_post_features_tfidf_256.csv'\n",
        "        ]\n",
        "for f in files:\n",
        "    #print(scipy.stats.wilcoxon(pre_scores, mid_scores))\n",
        "    pre_compound= [x['compound'] for x in pre_scores[f.split('_')[0]]]\n",
        "    mid_compound= [x['compound'] for x in mid_scores[f.split('_')[0]]]\n",
        "    # Perform the two-tailed t-test\n",
        "    statistic, pvalue = stats.ttest_ind(pre_compound, mid_compound, equal_var=False)\n",
        "    # Print the results\n",
        "    print(\"Topic:\",f.split('_')[0])\n",
        "    print(\"T-statistic:\", statistic)\n",
        "    print(\"p-value:\", pvalue)\n"
      ],
      "metadata": {
        "id": "8eu62K012mLJ"
      },
      "execution_count": null,
      "outputs": []
    },
    {
      "cell_type": "markdown",
      "source": [
        "#Find the direction of these differences"
      ],
      "metadata": {
        "id": "Ql-CCsxA5Nf5"
      }
    },
    {
      "cell_type": "code",
      "source": [],
      "metadata": {
        "id": "aKHXK5zwLfPv"
      },
      "execution_count": null,
      "outputs": []
    },
    {
      "cell_type": "markdown",
      "source": [
        "## TODO: Try to apply the Wilcoxon significance test on posts from a subreddit related to mental health"
      ],
      "metadata": {
        "id": "4MFQBVNtKQNX"
      }
    }
  ],
  "metadata": {
    "colab": {
      "provenance": [],
      "include_colab_link": true
    },
    "kernelspec": {
      "display_name": "Python 3",
      "language": "python",
      "name": "python3"
    },
    "language_info": {
      "codemirror_mode": {
        "name": "ipython",
        "version": 3
      },
      "file_extension": ".py",
      "mimetype": "text/x-python",
      "name": "python",
      "nbconvert_exporter": "python",
      "pygments_lexer": "ipython3",
      "version": "3.11.4"
    },
    "widgets": {
      "application/vnd.jupyter.widget-state+json": {
        "3ab6f6fc85014cffab1b54d8bf46ce6f": {
          "model_module": "@jupyter-widgets/controls",
          "model_name": "HBoxModel",
          "model_module_version": "1.5.0",
          "state": {
            "_dom_classes": [],
            "_model_module": "@jupyter-widgets/controls",
            "_model_module_version": "1.5.0",
            "_model_name": "HBoxModel",
            "_view_count": null,
            "_view_module": "@jupyter-widgets/controls",
            "_view_module_version": "1.5.0",
            "_view_name": "HBoxView",
            "box_style": "",
            "children": [
              "IPY_MODEL_511723a20ef641ce84a9bdd334132bf7",
              "IPY_MODEL_d3630182d8f741d682b7b318cef735a9",
              "IPY_MODEL_a0d6cfc113ce4eb8a2aeb88d21928637"
            ],
            "layout": "IPY_MODEL_24e293a8b2844333967bad1907320f53"
          }
        },
        "511723a20ef641ce84a9bdd334132bf7": {
          "model_module": "@jupyter-widgets/controls",
          "model_name": "HTMLModel",
          "model_module_version": "1.5.0",
          "state": {
            "_dom_classes": [],
            "_model_module": "@jupyter-widgets/controls",
            "_model_module_version": "1.5.0",
            "_model_name": "HTMLModel",
            "_view_count": null,
            "_view_module": "@jupyter-widgets/controls",
            "_view_module_version": "1.5.0",
            "_view_name": "HTMLView",
            "description": "",
            "description_tooltip": null,
            "layout": "IPY_MODEL_1de9527c79e747fb9039a2c090a292b1",
            "placeholder": "​",
            "style": "IPY_MODEL_9a72efb96a4141ef9d72a7b327e33765",
            "value": "reddit.zip: 100%"
          }
        },
        "d3630182d8f741d682b7b318cef735a9": {
          "model_module": "@jupyter-widgets/controls",
          "model_name": "FloatProgressModel",
          "model_module_version": "1.5.0",
          "state": {
            "_dom_classes": [],
            "_model_module": "@jupyter-widgets/controls",
            "_model_module_version": "1.5.0",
            "_model_name": "FloatProgressModel",
            "_view_count": null,
            "_view_module": "@jupyter-widgets/controls",
            "_view_module_version": "1.5.0",
            "_view_name": "ProgressView",
            "bar_style": "success",
            "description": "",
            "description_tooltip": null,
            "layout": "IPY_MODEL_f663d2ec15ff4db0ab8bed753102240b",
            "max": 1031556703,
            "min": 0,
            "orientation": "horizontal",
            "style": "IPY_MODEL_1ad226f61ac24afba4f077222d725e66",
            "value": 1031556703
          }
        },
        "a0d6cfc113ce4eb8a2aeb88d21928637": {
          "model_module": "@jupyter-widgets/controls",
          "model_name": "HTMLModel",
          "model_module_version": "1.5.0",
          "state": {
            "_dom_classes": [],
            "_model_module": "@jupyter-widgets/controls",
            "_model_module_version": "1.5.0",
            "_model_name": "HTMLModel",
            "_view_count": null,
            "_view_module": "@jupyter-widgets/controls",
            "_view_module_version": "1.5.0",
            "_view_name": "HTMLView",
            "description": "",
            "description_tooltip": null,
            "layout": "IPY_MODEL_d5f3e4a1df494f0bb6ab07747d080cc5",
            "placeholder": "​",
            "style": "IPY_MODEL_a611217eb1314f85b325b5df6230194d",
            "value": " 1.03G/1.03G [00:11&lt;00:00, 44.4MB/s]"
          }
        },
        "24e293a8b2844333967bad1907320f53": {
          "model_module": "@jupyter-widgets/base",
          "model_name": "LayoutModel",
          "model_module_version": "1.2.0",
          "state": {
            "_model_module": "@jupyter-widgets/base",
            "_model_module_version": "1.2.0",
            "_model_name": "LayoutModel",
            "_view_count": null,
            "_view_module": "@jupyter-widgets/base",
            "_view_module_version": "1.2.0",
            "_view_name": "LayoutView",
            "align_content": null,
            "align_items": null,
            "align_self": null,
            "border": null,
            "bottom": null,
            "display": null,
            "flex": null,
            "flex_flow": null,
            "grid_area": null,
            "grid_auto_columns": null,
            "grid_auto_flow": null,
            "grid_auto_rows": null,
            "grid_column": null,
            "grid_gap": null,
            "grid_row": null,
            "grid_template_areas": null,
            "grid_template_columns": null,
            "grid_template_rows": null,
            "height": null,
            "justify_content": null,
            "justify_items": null,
            "left": null,
            "margin": null,
            "max_height": null,
            "max_width": null,
            "min_height": null,
            "min_width": null,
            "object_fit": null,
            "object_position": null,
            "order": null,
            "overflow": null,
            "overflow_x": null,
            "overflow_y": null,
            "padding": null,
            "right": null,
            "top": null,
            "visibility": null,
            "width": null
          }
        },
        "1de9527c79e747fb9039a2c090a292b1": {
          "model_module": "@jupyter-widgets/base",
          "model_name": "LayoutModel",
          "model_module_version": "1.2.0",
          "state": {
            "_model_module": "@jupyter-widgets/base",
            "_model_module_version": "1.2.0",
            "_model_name": "LayoutModel",
            "_view_count": null,
            "_view_module": "@jupyter-widgets/base",
            "_view_module_version": "1.2.0",
            "_view_name": "LayoutView",
            "align_content": null,
            "align_items": null,
            "align_self": null,
            "border": null,
            "bottom": null,
            "display": null,
            "flex": null,
            "flex_flow": null,
            "grid_area": null,
            "grid_auto_columns": null,
            "grid_auto_flow": null,
            "grid_auto_rows": null,
            "grid_column": null,
            "grid_gap": null,
            "grid_row": null,
            "grid_template_areas": null,
            "grid_template_columns": null,
            "grid_template_rows": null,
            "height": null,
            "justify_content": null,
            "justify_items": null,
            "left": null,
            "margin": null,
            "max_height": null,
            "max_width": null,
            "min_height": null,
            "min_width": null,
            "object_fit": null,
            "object_position": null,
            "order": null,
            "overflow": null,
            "overflow_x": null,
            "overflow_y": null,
            "padding": null,
            "right": null,
            "top": null,
            "visibility": null,
            "width": null
          }
        },
        "9a72efb96a4141ef9d72a7b327e33765": {
          "model_module": "@jupyter-widgets/controls",
          "model_name": "DescriptionStyleModel",
          "model_module_version": "1.5.0",
          "state": {
            "_model_module": "@jupyter-widgets/controls",
            "_model_module_version": "1.5.0",
            "_model_name": "DescriptionStyleModel",
            "_view_count": null,
            "_view_module": "@jupyter-widgets/base",
            "_view_module_version": "1.2.0",
            "_view_name": "StyleView",
            "description_width": ""
          }
        },
        "f663d2ec15ff4db0ab8bed753102240b": {
          "model_module": "@jupyter-widgets/base",
          "model_name": "LayoutModel",
          "model_module_version": "1.2.0",
          "state": {
            "_model_module": "@jupyter-widgets/base",
            "_model_module_version": "1.2.0",
            "_model_name": "LayoutModel",
            "_view_count": null,
            "_view_module": "@jupyter-widgets/base",
            "_view_module_version": "1.2.0",
            "_view_name": "LayoutView",
            "align_content": null,
            "align_items": null,
            "align_self": null,
            "border": null,
            "bottom": null,
            "display": null,
            "flex": null,
            "flex_flow": null,
            "grid_area": null,
            "grid_auto_columns": null,
            "grid_auto_flow": null,
            "grid_auto_rows": null,
            "grid_column": null,
            "grid_gap": null,
            "grid_row": null,
            "grid_template_areas": null,
            "grid_template_columns": null,
            "grid_template_rows": null,
            "height": null,
            "justify_content": null,
            "justify_items": null,
            "left": null,
            "margin": null,
            "max_height": null,
            "max_width": null,
            "min_height": null,
            "min_width": null,
            "object_fit": null,
            "object_position": null,
            "order": null,
            "overflow": null,
            "overflow_x": null,
            "overflow_y": null,
            "padding": null,
            "right": null,
            "top": null,
            "visibility": null,
            "width": null
          }
        },
        "1ad226f61ac24afba4f077222d725e66": {
          "model_module": "@jupyter-widgets/controls",
          "model_name": "ProgressStyleModel",
          "model_module_version": "1.5.0",
          "state": {
            "_model_module": "@jupyter-widgets/controls",
            "_model_module_version": "1.5.0",
            "_model_name": "ProgressStyleModel",
            "_view_count": null,
            "_view_module": "@jupyter-widgets/base",
            "_view_module_version": "1.2.0",
            "_view_name": "StyleView",
            "bar_color": null,
            "description_width": ""
          }
        },
        "d5f3e4a1df494f0bb6ab07747d080cc5": {
          "model_module": "@jupyter-widgets/base",
          "model_name": "LayoutModel",
          "model_module_version": "1.2.0",
          "state": {
            "_model_module": "@jupyter-widgets/base",
            "_model_module_version": "1.2.0",
            "_model_name": "LayoutModel",
            "_view_count": null,
            "_view_module": "@jupyter-widgets/base",
            "_view_module_version": "1.2.0",
            "_view_name": "LayoutView",
            "align_content": null,
            "align_items": null,
            "align_self": null,
            "border": null,
            "bottom": null,
            "display": null,
            "flex": null,
            "flex_flow": null,
            "grid_area": null,
            "grid_auto_columns": null,
            "grid_auto_flow": null,
            "grid_auto_rows": null,
            "grid_column": null,
            "grid_gap": null,
            "grid_row": null,
            "grid_template_areas": null,
            "grid_template_columns": null,
            "grid_template_rows": null,
            "height": null,
            "justify_content": null,
            "justify_items": null,
            "left": null,
            "margin": null,
            "max_height": null,
            "max_width": null,
            "min_height": null,
            "min_width": null,
            "object_fit": null,
            "object_position": null,
            "order": null,
            "overflow": null,
            "overflow_x": null,
            "overflow_y": null,
            "padding": null,
            "right": null,
            "top": null,
            "visibility": null,
            "width": null
          }
        },
        "a611217eb1314f85b325b5df6230194d": {
          "model_module": "@jupyter-widgets/controls",
          "model_name": "DescriptionStyleModel",
          "model_module_version": "1.5.0",
          "state": {
            "_model_module": "@jupyter-widgets/controls",
            "_model_module_version": "1.5.0",
            "_model_name": "DescriptionStyleModel",
            "_view_count": null,
            "_view_module": "@jupyter-widgets/base",
            "_view_module_version": "1.2.0",
            "_view_name": "StyleView",
            "description_width": ""
          }
        },
        "aca7e29e5791473fb8d003247a2ba225": {
          "model_module": "@jupyter-widgets/controls",
          "model_name": "HBoxModel",
          "model_module_version": "1.5.0",
          "state": {
            "_dom_classes": [],
            "_model_module": "@jupyter-widgets/controls",
            "_model_module_version": "1.5.0",
            "_model_name": "HBoxModel",
            "_view_count": null,
            "_view_module": "@jupyter-widgets/controls",
            "_view_module_version": "1.5.0",
            "_view_name": "HBoxView",
            "box_style": "",
            "children": [
              "IPY_MODEL_e797e9f83e89497c98d431fcd3b7c14c",
              "IPY_MODEL_aa955f6dd270425690f3b5b6caa17c74",
              "IPY_MODEL_2c4e2898ff4b448e86539f6432038313"
            ],
            "layout": "IPY_MODEL_c400a31f98d344fdaf3683d2535f6632"
          }
        },
        "e797e9f83e89497c98d431fcd3b7c14c": {
          "model_module": "@jupyter-widgets/controls",
          "model_name": "HTMLModel",
          "model_module_version": "1.5.0",
          "state": {
            "_dom_classes": [],
            "_model_module": "@jupyter-widgets/controls",
            "_model_module_version": "1.5.0",
            "_model_name": "HTMLModel",
            "_view_count": null,
            "_view_module": "@jupyter-widgets/controls",
            "_view_module_version": "1.5.0",
            "_view_name": "HTMLView",
            "description": "",
            "description_tooltip": null,
            "layout": "IPY_MODEL_22651ab25b1a435c90f71ec2c2209aa0",
            "placeholder": "​",
            "style": "IPY_MODEL_cb993568f97c428992d52137b27f4b8b",
            "value": "lda_model.zip: 100%"
          }
        },
        "aa955f6dd270425690f3b5b6caa17c74": {
          "model_module": "@jupyter-widgets/controls",
          "model_name": "FloatProgressModel",
          "model_module_version": "1.5.0",
          "state": {
            "_dom_classes": [],
            "_model_module": "@jupyter-widgets/controls",
            "_model_module_version": "1.5.0",
            "_model_name": "FloatProgressModel",
            "_view_count": null,
            "_view_module": "@jupyter-widgets/controls",
            "_view_module_version": "1.5.0",
            "_view_name": "ProgressView",
            "bar_style": "success",
            "description": "",
            "description_tooltip": null,
            "layout": "IPY_MODEL_29d339fdf7b0483ca17f86aa517ff0e2",
            "max": 2083409,
            "min": 0,
            "orientation": "horizontal",
            "style": "IPY_MODEL_89fae78918d24699aad6fe719aa8608c",
            "value": 2083409
          }
        },
        "2c4e2898ff4b448e86539f6432038313": {
          "model_module": "@jupyter-widgets/controls",
          "model_name": "HTMLModel",
          "model_module_version": "1.5.0",
          "state": {
            "_dom_classes": [],
            "_model_module": "@jupyter-widgets/controls",
            "_model_module_version": "1.5.0",
            "_model_name": "HTMLModel",
            "_view_count": null,
            "_view_module": "@jupyter-widgets/controls",
            "_view_module_version": "1.5.0",
            "_view_name": "HTMLView",
            "description": "",
            "description_tooltip": null,
            "layout": "IPY_MODEL_d606d3409128444694d483d648d728b0",
            "placeholder": "​",
            "style": "IPY_MODEL_068eb23e4dcc48cb98e1f7fde7cad872",
            "value": " 2.08M/2.08M [00:00&lt;00:00, 7.94MB/s]"
          }
        },
        "c400a31f98d344fdaf3683d2535f6632": {
          "model_module": "@jupyter-widgets/base",
          "model_name": "LayoutModel",
          "model_module_version": "1.2.0",
          "state": {
            "_model_module": "@jupyter-widgets/base",
            "_model_module_version": "1.2.0",
            "_model_name": "LayoutModel",
            "_view_count": null,
            "_view_module": "@jupyter-widgets/base",
            "_view_module_version": "1.2.0",
            "_view_name": "LayoutView",
            "align_content": null,
            "align_items": null,
            "align_self": null,
            "border": null,
            "bottom": null,
            "display": null,
            "flex": null,
            "flex_flow": null,
            "grid_area": null,
            "grid_auto_columns": null,
            "grid_auto_flow": null,
            "grid_auto_rows": null,
            "grid_column": null,
            "grid_gap": null,
            "grid_row": null,
            "grid_template_areas": null,
            "grid_template_columns": null,
            "grid_template_rows": null,
            "height": null,
            "justify_content": null,
            "justify_items": null,
            "left": null,
            "margin": null,
            "max_height": null,
            "max_width": null,
            "min_height": null,
            "min_width": null,
            "object_fit": null,
            "object_position": null,
            "order": null,
            "overflow": null,
            "overflow_x": null,
            "overflow_y": null,
            "padding": null,
            "right": null,
            "top": null,
            "visibility": null,
            "width": null
          }
        },
        "22651ab25b1a435c90f71ec2c2209aa0": {
          "model_module": "@jupyter-widgets/base",
          "model_name": "LayoutModel",
          "model_module_version": "1.2.0",
          "state": {
            "_model_module": "@jupyter-widgets/base",
            "_model_module_version": "1.2.0",
            "_model_name": "LayoutModel",
            "_view_count": null,
            "_view_module": "@jupyter-widgets/base",
            "_view_module_version": "1.2.0",
            "_view_name": "LayoutView",
            "align_content": null,
            "align_items": null,
            "align_self": null,
            "border": null,
            "bottom": null,
            "display": null,
            "flex": null,
            "flex_flow": null,
            "grid_area": null,
            "grid_auto_columns": null,
            "grid_auto_flow": null,
            "grid_auto_rows": null,
            "grid_column": null,
            "grid_gap": null,
            "grid_row": null,
            "grid_template_areas": null,
            "grid_template_columns": null,
            "grid_template_rows": null,
            "height": null,
            "justify_content": null,
            "justify_items": null,
            "left": null,
            "margin": null,
            "max_height": null,
            "max_width": null,
            "min_height": null,
            "min_width": null,
            "object_fit": null,
            "object_position": null,
            "order": null,
            "overflow": null,
            "overflow_x": null,
            "overflow_y": null,
            "padding": null,
            "right": null,
            "top": null,
            "visibility": null,
            "width": null
          }
        },
        "cb993568f97c428992d52137b27f4b8b": {
          "model_module": "@jupyter-widgets/controls",
          "model_name": "DescriptionStyleModel",
          "model_module_version": "1.5.0",
          "state": {
            "_model_module": "@jupyter-widgets/controls",
            "_model_module_version": "1.5.0",
            "_model_name": "DescriptionStyleModel",
            "_view_count": null,
            "_view_module": "@jupyter-widgets/base",
            "_view_module_version": "1.2.0",
            "_view_name": "StyleView",
            "description_width": ""
          }
        },
        "29d339fdf7b0483ca17f86aa517ff0e2": {
          "model_module": "@jupyter-widgets/base",
          "model_name": "LayoutModel",
          "model_module_version": "1.2.0",
          "state": {
            "_model_module": "@jupyter-widgets/base",
            "_model_module_version": "1.2.0",
            "_model_name": "LayoutModel",
            "_view_count": null,
            "_view_module": "@jupyter-widgets/base",
            "_view_module_version": "1.2.0",
            "_view_name": "LayoutView",
            "align_content": null,
            "align_items": null,
            "align_self": null,
            "border": null,
            "bottom": null,
            "display": null,
            "flex": null,
            "flex_flow": null,
            "grid_area": null,
            "grid_auto_columns": null,
            "grid_auto_flow": null,
            "grid_auto_rows": null,
            "grid_column": null,
            "grid_gap": null,
            "grid_row": null,
            "grid_template_areas": null,
            "grid_template_columns": null,
            "grid_template_rows": null,
            "height": null,
            "justify_content": null,
            "justify_items": null,
            "left": null,
            "margin": null,
            "max_height": null,
            "max_width": null,
            "min_height": null,
            "min_width": null,
            "object_fit": null,
            "object_position": null,
            "order": null,
            "overflow": null,
            "overflow_x": null,
            "overflow_y": null,
            "padding": null,
            "right": null,
            "top": null,
            "visibility": null,
            "width": null
          }
        },
        "89fae78918d24699aad6fe719aa8608c": {
          "model_module": "@jupyter-widgets/controls",
          "model_name": "ProgressStyleModel",
          "model_module_version": "1.5.0",
          "state": {
            "_model_module": "@jupyter-widgets/controls",
            "_model_module_version": "1.5.0",
            "_model_name": "ProgressStyleModel",
            "_view_count": null,
            "_view_module": "@jupyter-widgets/base",
            "_view_module_version": "1.2.0",
            "_view_name": "StyleView",
            "bar_color": null,
            "description_width": ""
          }
        },
        "d606d3409128444694d483d648d728b0": {
          "model_module": "@jupyter-widgets/base",
          "model_name": "LayoutModel",
          "model_module_version": "1.2.0",
          "state": {
            "_model_module": "@jupyter-widgets/base",
            "_model_module_version": "1.2.0",
            "_model_name": "LayoutModel",
            "_view_count": null,
            "_view_module": "@jupyter-widgets/base",
            "_view_module_version": "1.2.0",
            "_view_name": "LayoutView",
            "align_content": null,
            "align_items": null,
            "align_self": null,
            "border": null,
            "bottom": null,
            "display": null,
            "flex": null,
            "flex_flow": null,
            "grid_area": null,
            "grid_auto_columns": null,
            "grid_auto_flow": null,
            "grid_auto_rows": null,
            "grid_column": null,
            "grid_gap": null,
            "grid_row": null,
            "grid_template_areas": null,
            "grid_template_columns": null,
            "grid_template_rows": null,
            "height": null,
            "justify_content": null,
            "justify_items": null,
            "left": null,
            "margin": null,
            "max_height": null,
            "max_width": null,
            "min_height": null,
            "min_width": null,
            "object_fit": null,
            "object_position": null,
            "order": null,
            "overflow": null,
            "overflow_x": null,
            "overflow_y": null,
            "padding": null,
            "right": null,
            "top": null,
            "visibility": null,
            "width": null
          }
        },
        "068eb23e4dcc48cb98e1f7fde7cad872": {
          "model_module": "@jupyter-widgets/controls",
          "model_name": "DescriptionStyleModel",
          "model_module_version": "1.5.0",
          "state": {
            "_model_module": "@jupyter-widgets/controls",
            "_model_module_version": "1.5.0",
            "_model_name": "DescriptionStyleModel",
            "_view_count": null,
            "_view_module": "@jupyter-widgets/base",
            "_view_module_version": "1.2.0",
            "_view_name": "StyleView",
            "description_width": ""
          }
        }
      }
    }
  },
  "nbformat": 4,
  "nbformat_minor": 0
}